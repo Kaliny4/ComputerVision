{
 "cells": [
  {
   "cell_type": "markdown",
   "id": "f0677162-c887-4f87-a40d-757cdb114619",
   "metadata": {},
   "source": [
    "Step 1\n",
    "Decide what video you are going to use for this homework, select an object and generate the template. You can use any video you want (your own, from Youtube, etc.) and track any object you want (e.g. a car, a pedestrian, etc.).\n",
    "\n",
    "Step 2\n",
    "Initialize a tracker (e.g. KCF).\n",
    "\n",
    "Step 3\n",
    "Run the tracker on the video and the selected object. Run the tracker for around 10-15 frames.\n",
    "\n",
    "Step 4\n",
    "For each frame, print the bounding box on the image and save it.\n",
    "\n",
    "Step 5\n",
    "Select a different tracker (e.g. CSRT) and repeat steps 2, 3 and 4.\n",
    "\n",
    "Step 6\n",
    "Compare the results:\n",
    "\n",
    "Do you see any differences? If so, what are they?\n",
    "Does one tracker perform better than the other? In what way?\n"
   ]
  },
  {
   "cell_type": "code",
   "execution_count": 1,
   "id": "0db50a7c-622a-496d-96ee-2fa90c9fa8a2",
   "metadata": {},
   "outputs": [],
   "source": [
    "import os\n",
    "import cv2\n",
    "import pickle\n",
    "import numpy as np\n",
    "from matplotlib import pyplot as plt\n",
    "\n",
    "# Load the video file\n",
    "video_path = r\"C:\\Users\\hanna\\ComputerVision\\S2830009.MP4\"\n",
    "cap = cv2.VideoCapture(video_path)\n"
   ]
  },
  {
   "cell_type": "code",
   "execution_count": 2,
   "id": "14790377-1710-4e84-9cda-451bf726add6",
   "metadata": {},
   "outputs": [],
   "source": [
    "# Read the first frame from the video\n",
    "ret, frame = cap.read()\n"
   ]
  },
  {
   "cell_type": "code",
   "execution_count": 3,
   "id": "d4a7fb39-fff1-42ea-a8a2-8c2ca84e1bb5",
   "metadata": {},
   "outputs": [],
   "source": [
    "# Convert the frame to RGB for visualization purposes\n",
    "frame_rgb = cv2.cvtColor(frame, cv2.COLOR_BGR2RGB)\n"
   ]
  },
  {
   "cell_type": "code",
   "execution_count": null,
   "id": "79dcdcf3-faec-433e-b8e1-736eaf81902f",
   "metadata": {},
   "outputs": [],
   "source": [
    "# Bounding box\n",
    "bbox = cv2.selectROI(\"Select Object to Track\", frame, fromCenter=False, showCrosshair=True)\n",
    "cv2.destroyAllWindows()\n"
   ]
  },
  {
   "cell_type": "code",
   "execution_count": null,
   "id": "0033c035-ed81-4f0d-9bdf-c175492e6f56",
   "metadata": {},
   "outputs": [],
   "source": [
    "# Set up tracker\n",
    "tracker_types = ['MIL','KCF', 'CSRT']\n",
    "tracker_type = tracker_types[2]\n",
    "\n",
    "#if tracker_type == 'MIL':\n",
    "    #tracker = cv2.TrackerMIL_create()\n",
    "\n",
    "if tracker_type == 'KCF':\n",
    "    tracker = cv2.TrackerKCF_create()\n",
    "\n",
    "if tracker_type == \"CSRT\":\n",
    "    tracker = cv2.TrackerCSRT_create()\n",
    "\n",
    "# Initialize the tracker with the first frame and bounding box\n",
    "ok = tracker.init(frame, bbox)\n",
    "\n",
    "# Tracking loop for the next 15 frames\n",
    "frame_count = 0\n",
    "while cap.isOpened() and frame_count < 15:\n",
    "    # Read the next frame\n",
    "    ret, frame = cap.read()\n",
    "    \n",
    "    # Update the tracker\n",
    "    ok, bbox = tracker.update(frame)\n",
    "    # Draw the bounding box\n",
    "        x1, y1, w, h = map(int, bbox) \n",
    "        cv2.rectangle(frame, (x1, y1), (x1 + w, y1 + h), (0, 255, 0), 2)\n",
    "\n",
    "\n",
    "    # Convert frame to RGB for display using matplotlib\n",
    "    frame_rgb = cv2.cvtColor(frame, cv2.COLOR_BGR2RGB)\n",
    "            \n",
    "    # Display the frame\n",
    "    plt.imshow(frame_rgb)\n",
    "    plt.axis('off')\n",
    "    plt.show(), plt.draw()\n",
    "    plt.pause(0.1)  # Pause \n",
    "    plt.clf()  # Clear the current plot for the next frame\n",
    "\n",
    "    frame_count += 1\n",
    "\n",
    "cap.release()\n",
    "cv2.destroyAllWindows()\n"
   ]
  }
 ],
 "metadata": {
  "kernelspec": {
   "display_name": "Python 3 (ipykernel)",
   "language": "python",
   "name": "python3"
  },
  "language_info": {
   "codemirror_mode": {
    "name": "ipython",
    "version": 3
   },
   "file_extension": ".py",
   "mimetype": "text/x-python",
   "name": "python",
   "nbconvert_exporter": "python",
   "pygments_lexer": "ipython3",
   "version": "3.11.5"
  }
 },
 "nbformat": 4,
 "nbformat_minor": 5
}
